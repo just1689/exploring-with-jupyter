{
 "cells": [
  {
   "cell_type": "markdown",
   "metadata": {},
   "source": [
    "# Captain's Loc"
   ]
  },
  {
   "cell_type": "code",
   "execution_count": 5,
   "metadata": {},
   "outputs": [],
   "source": [
    "# Setup\n",
    "\n",
    "# pip3 install urllib3 # Might not have worked. Hard to say\n",
    "# pip install urllib3\n",
    "# pip3 install requests\n",
    "\n"
   ]
  },
  {
   "cell_type": "code",
   "execution_count": 6,
   "metadata": {},
   "outputs": [
    {
     "name": "stdout",
     "output_type": "stream",
     "text": [
      "{'id': '54', 'lon': 27.9517183, 'lat': -26.118670899999998, 'tim': '2018-09-14T10:20:12+00:00', 'amount': 0.0, 'morning': False, 'midday': True, 'evening': False, 'weekend': False}\n"
     ]
    }
   ],
   "source": [
    "# Load the sample data - 1 month from the rest endpoint serving JSON of a Pg database\n",
    "\n",
    "import json, urllib.request, requests\n",
    "from collections import namedtuple\n",
    "\n",
    "def getLocations():\n",
    "\n",
    "    send_url = 'https://geo-pg.captainjustin.space/transactions_rs_time'\n",
    "    r = requests.get(send_url)\n",
    "    j = json.loads(r.text)\n",
    "    return j\n",
    "\n",
    "sample_locations = getLocations()\n",
    "\n",
    "# To See what is in there:\n",
    "print(sample_locations[0])\n",
    "\n"
   ]
  },
  {
   "cell_type": "code",
   "execution_count": 7,
   "metadata": {},
   "outputs": [
    {
     "name": "stdout",
     "output_type": "stream",
     "text": [
      "0.001564830869456087\n"
     ]
    }
   ],
   "source": [
    "# Get the distance between two points\n",
    "from math import sqrt\n",
    "\n",
    "def getDistance(loc1, loc2):\n",
    "    dist = sqrt( (loc2['lon'] - loc1['lon'])**2 + (loc2['lat'] - loc1['lat'])**2 )\n",
    "    return dist\n",
    "\n",
    "# To see this work\n",
    "print(getDistance(sample_locations[0], sample_locations[1]))\n"
   ]
  },
  {
   "cell_type": "code",
   "execution_count": 8,
   "metadata": {},
   "outputs": [
    {
     "name": "stdout",
     "output_type": "stream",
     "text": [
      "function defined\n"
     ]
    }
   ],
   "source": [
    "# Count the number of points within a distance of a point\n",
    "def getScore(point, allPoints, limitDistance):\n",
    "    result = 0\n",
    "    for other in allPoints:\n",
    "        thisDistance = getDistance(point, other)\n",
    "        if thisDistance <= limitDistance:\n",
    "            result += 1\n",
    "    return result\n",
    "print(\"Function getScore defined\")"
   ]
  },
  {
   "cell_type": "code",
   "execution_count": 15,
   "metadata": {},
   "outputs": [
    {
     "name": "stdout",
     "output_type": "stream",
     "text": [
      "Function getJson defined\n"
     ]
    }
   ],
   "source": [
    "# Convert anything to json\n",
    "import json\n",
    "def getJson(o):\n",
    "    json_string = json.dumps(topNList)    \n",
    "    return json_string\n",
    "print(\"Function getJson defined\")\n"
   ]
  },
  {
   "cell_type": "code",
   "execution_count": 16,
   "metadata": {},
   "outputs": [
    {
     "name": "stdout",
     "output_type": "stream",
     "text": [
      "Scores are complete\n"
     ]
    }
   ],
   "source": [
    "# Get the score of each point\n",
    "\n",
    "# Decide on accuracy\n",
    "arbitaryDistanceLimit = 0.0001\n",
    "\n",
    "# We'll keep scores here in an array here\n",
    "scores = [] \n",
    "\n",
    "# Define the data structure\n",
    "class Score:\n",
    "    def __init__(self, total, item):\n",
    "        self.total = total\n",
    "        self.item = item\n",
    "    def __repr__(self):\n",
    "        return repr((self.total, self.item))\n",
    "\n",
    "\n",
    "# Get the score for each location\n",
    "for l in sample_locations:\n",
    "    total = getScore(l, sample_locations, arbitaryDistanceLimit)\n",
    "    scores.append(Score(total, l))\n",
    "\n",
    "sorted_locations = sorted(scores, key=lambda score: score.total)\n",
    "\n",
    "\n",
    "print(\"Scores are complete\")\n"
   ]
  },
  {
   "cell_type": "code",
   "execution_count": 17,
   "metadata": {},
   "outputs": [],
   "source": [
    "# Get the top n\n",
    "topN = 10\n",
    "topNList = []\n",
    "\n",
    "current = 0\n",
    "last = len(sorted_locations) - 1\n",
    "start = last - topN\n",
    "a = last\n",
    "while a > start:\n",
    "    a -= 1\n",
    "    topNList.append(sorted_locations[a].item)\n",
    "    \n"
   ]
  },
  {
   "cell_type": "code",
   "execution_count": 18,
   "metadata": {},
   "outputs": [
    {
     "name": "stdout",
     "output_type": "stream",
     "text": [
      "[{\"id\": \"13298\", \"lon\": 27.9478033, \"lat\": -26.0914297, \"tim\": \"2018-08-20T16:59:38+00:00\", \"amount\": 0.0, \"morning\": false, \"midday\": true, \"evening\": false, \"weekend\": false}, {\"id\": \"9204\", \"lon\": 27.9477917, \"lat\": -26.0914091, \"tim\": \"2018-08-28T15:28:50+00:00\", \"amount\": 0.0, \"morning\": false, \"midday\": true, \"evening\": false, \"weekend\": false}, {\"id\": \"807\", \"lon\": 27.9477749, \"lat\": -26.091455999999997, \"tim\": \"2018-09-12T21:11:52+00:00\", \"amount\": 0.0, \"morning\": false, \"midday\": null, \"evening\": true, \"weekend\": false}, {\"id\": \"11675\", \"lon\": 27.9478078, \"lat\": -26.0914391, \"tim\": \"2018-08-23T14:26:18+00:00\", \"amount\": 0.0, \"morning\": false, \"midday\": true, \"evening\": false, \"weekend\": false}, {\"id\": \"11677\", \"lon\": 27.9478078, \"lat\": -26.0914391, \"tim\": \"2018-08-23T14:23:07+00:00\", \"amount\": 0.0, \"morning\": false, \"midday\": true, \"evening\": false, \"weekend\": false}, {\"id\": \"9112\", \"lon\": 27.947792, \"lat\": -26.0914592, \"tim\": \"2018-08-28T21:58:43+00:00\", \"amount\": 0.0, \"morning\": false, \"midday\": null, \"evening\": true, \"weekend\": false}, {\"id\": \"15006\", \"lon\": 27.9478407, \"lat\": -26.0914635, \"tim\": \"2018-08-18T02:58:12+00:00\", \"amount\": 0.0, \"morning\": true, \"midday\": null, \"evening\": false, \"weekend\": true}, {\"id\": \"15019\", \"lon\": 27.9478407, \"lat\": -26.0914635, \"tim\": \"2018-08-18T01:38:44+00:00\", \"amount\": 0.0, \"morning\": true, \"midday\": null, \"evening\": false, \"weekend\": true}, {\"id\": \"14969\", \"lon\": 27.9478407, \"lat\": -26.0914635, \"tim\": \"2018-08-18T05:57:31+00:00\", \"amount\": 0.0, \"morning\": true, \"midday\": null, \"evening\": false, \"weekend\": true}, {\"id\": \"14954\", \"lon\": 27.9478407, \"lat\": -26.0914635, \"tim\": \"2018-08-18T07:20:14+00:00\", \"amount\": 0.0, \"morning\": true, \"midday\": null, \"evening\": false, \"weekend\": true}]\n"
     ]
    }
   ],
   "source": [
    "json_string = getJson(topNList)\n",
    "print(json_string)\n"
   ]
  },
  {
   "cell_type": "code",
   "execution_count": null,
   "metadata": {},
   "outputs": [],
   "source": []
  }
 ],
 "metadata": {
  "kernelspec": {
   "display_name": "Python 3",
   "language": "python",
   "name": "python3"
  },
  "language_info": {
   "codemirror_mode": {
    "name": "ipython",
    "version": 3
   },
   "file_extension": ".py",
   "mimetype": "text/x-python",
   "name": "python",
   "nbconvert_exporter": "python",
   "pygments_lexer": "ipython3",
   "version": "3.6.5"
  }
 },
 "nbformat": 4,
 "nbformat_minor": 2
}
