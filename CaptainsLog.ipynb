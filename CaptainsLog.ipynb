{
 "cells": [
  {
   "cell_type": "markdown",
   "metadata": {},
   "source": [
    "# Captain's Log"
   ]
  },
  {
   "cell_type": "code",
   "execution_count": 79,
   "metadata": {},
   "outputs": [],
   "source": [
    "# Setup\n",
    "\n",
    "# pip3 install urllib3 # Might not have worked. Hard to say\n",
    "# pip install urllib3\n",
    "# pip3 install requests\n",
    "\n"
   ]
  },
  {
   "cell_type": "code",
   "execution_count": 78,
   "metadata": {},
   "outputs": [],
   "source": [
    "#\n",
    "#   MODEL - data structures\n",
    "#\n",
    "\n",
    "# Score data structure\n",
    "class Score:\n",
    "    def __init__(self, total, item):\n",
    "        self.total = total\n",
    "        self.item = item\n",
    "    def __repr__(self):\n",
    "        return repr((self.total, self.item))\n",
    "\n",
    "# SuperPoint data structure\n",
    "class SuperPoint:\n",
    "    def __init__(self, item):\n",
    "        self.items = []\n",
    "        self.items.append(item)\n",
    "    def __repr__(self):\n",
    "        return repr((self.items))\n",
    "\n"
   ]
  },
  {
   "cell_type": "code",
   "execution_count": 80,
   "metadata": {},
   "outputs": [],
   "source": [
    "#\n",
    "# UTILITY methods\n",
    "#\n",
    "from math import sqrt\n",
    "\n",
    "# Get the distance between two points\n",
    "def getDistance(loc1, loc2):\n",
    "    dist = sqrt( (loc2['lon'] - loc1['lon'])**2 + (loc2['lat'] - loc1['lat'])**2 )\n",
    "    return dist\n",
    "\n",
    "# Are two points close enough\n",
    "def closeEnough(loc1, loc2, limitDistance):\n",
    "    thisDistance = getDistance(loc1, loc2)\n",
    "    return thisDistance <= limitDistance\n",
    "\n",
    "# Count the number of points within a distance of a point\n",
    "def getScore(point, allPoints, limitDistance):\n",
    "    result = 0\n",
    "    for other in allPoints:\n",
    "        if closeEnough(point, other, limitDistance):\n",
    "            result += 1\n",
    "    return result\n",
    "\n",
    "# Convert anything to json\n",
    "import json\n",
    "def getJson(o):\n",
    "    json_string = json.dumps(topNList)    \n",
    "    return json_string\n",
    "\n"
   ]
  },
  {
   "cell_type": "code",
   "execution_count": 81,
   "metadata": {},
   "outputs": [],
   "source": [
    "#\n",
    "# SETUP\n",
    "#\n",
    "\n",
    "import json, urllib.request, requests\n",
    "from collections import namedtuple\n",
    "\n",
    "def getLocations(url):\n",
    "    r = requests.get(url)\n",
    "    j = json.loads(r.text)\n",
    "    return j\n",
    "\n",
    "sample_locations = getLocations('https://geo-pg.captainjustin.space/transactions_rs_time')\n",
    "\n",
    "# Decide on accuracy\n",
    "arbitaryDistanceLimit = 0.0001\n",
    "\n",
    "\n"
   ]
  },
  {
   "cell_type": "code",
   "execution_count": 83,
   "metadata": {},
   "outputs": [
    {
     "name": "stdout",
     "output_type": "stream",
     "text": [
      "Scoring is done and sorted\n",
      "1036\n"
     ]
    }
   ],
   "source": [
    "### Let's score each point by how many other points are within `arbitaryDistanceLimit`\n",
    "\n",
    "\n",
    "# We'll keep scores here in an array here\n",
    "scores = [] \n",
    "\n",
    "\n",
    "# Get the score for each location\n",
    "for l in sample_locations:\n",
    "    total = getScore(l, sample_locations, arbitaryDistanceLimit)\n",
    "    scores.append(Score(total, l))\n",
    "\n",
    "sorted_scores = sorted(scores, key=lambda score: score.total, reverse=True)\n",
    "\n",
    "print(\"Scoring is done and sorted\")\n",
    "print(len(sorted_scores))\n"
   ]
  },
  {
   "cell_type": "code",
   "execution_count": 84,
   "metadata": {},
   "outputs": [
    {
     "name": "stdout",
     "output_type": "stream",
     "text": [
      "339\n",
      "5\n"
     ]
    }
   ],
   "source": [
    "# Create the first SuperPoint\n",
    "\n",
    "def createSuperPoint(scoreList):\n",
    "    point = scoreList[0].item\n",
    "    sp = SuperPoint(point)\n",
    "    scoreList.pop(0)\n",
    "    i = 0\n",
    "    while i < len(scoreList):\n",
    "        other = scoreList[i].item\n",
    "        if closeEnough(point, other, arbitaryDistanceLimit):\n",
    "            sp.items.append(other)\n",
    "            scoreList.pop(i)\n",
    "            i -= 1\n",
    "        i += 1\n",
    "    return sp\n",
    "\n",
    "# Lets keep out super points together\n",
    "superPoints = []\n",
    "\n",
    "sp1 = createSuperPoint(sorted_scores)\n",
    "print(len(sp1.items))\n",
    "sp2 = createSuperPoint(sorted_scores)\n",
    "print(len(sp2.items))\n",
    "\n",
    "\n"
   ]
  }
 ],
 "metadata": {
  "kernelspec": {
   "display_name": "Python 3",
   "language": "python",
   "name": "python3"
  },
  "language_info": {
   "codemirror_mode": {
    "name": "ipython",
    "version": 3
   },
   "file_extension": ".py",
   "mimetype": "text/x-python",
   "name": "python",
   "nbconvert_exporter": "python",
   "pygments_lexer": "ipython3",
   "version": "3.7.0"
  }
 },
 "nbformat": 4,
 "nbformat_minor": 2
}
