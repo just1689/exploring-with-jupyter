{
 "cells": [
  {
   "cell_type": "markdown",
   "metadata": {},
   "source": [
    "# Captain's Log"
   ]
  },
  {
   "cell_type": "code",
   "execution_count": 1,
   "metadata": {},
   "outputs": [],
   "source": [
    "# Setup\n",
    "\n",
    "# pip3 install urllib3 # Might not have worked. Hard to say\n",
    "# pip install urllib3\n",
    "# pip3 install requests\n",
    "\n"
   ]
  },
  {
   "cell_type": "code",
   "execution_count": 18,
   "metadata": {},
   "outputs": [
    {
     "name": "stdout",
     "output_type": "stream",
     "text": [
      "{'id': '1830', 'lon': 27.9478464, 'lat': -26.0914809, 'tim': '2018-09-10T23:36:48+00:00', 'amount': 0.0}\n"
     ]
    }
   ],
   "source": [
    "# Load the sample data - 1 month from the rest endpoint serving JSON of a Pg database\n",
    "\n",
    "import json, urllib.request, requests\n",
    "from collections import namedtuple\n",
    "\n",
    "def getLocations():\n",
    "    send_url = 'https://geo-pg.captainjustin.space/transactions_rs_time'\n",
    "#     send_url = 'https://geo-pg.captainjustin.space/transactions_recent'\n",
    "    r = requests.get(send_url)\n",
    "    j = json.loads(r.text)\n",
    "    return j\n",
    "\n",
    "sample_locations = getLocations()\n",
    "\n",
    "# To See what is in there:\n",
    "print(sample_locations[0])\n",
    "\n"
   ]
  },
  {
   "cell_type": "code",
   "execution_count": 19,
   "metadata": {},
   "outputs": [
    {
     "name": "stdout",
     "output_type": "stream",
     "text": [
      "0.0\n"
     ]
    }
   ],
   "source": [
    "# Get the distance between two points\n",
    "from math import sqrt\n",
    "\n",
    "def getDistance(loc1, loc2):\n",
    "    dist = sqrt( (loc2['lon'] - loc1['lon'])**2 + (loc2['lat'] - loc1['lat'])**2 )\n",
    "    return dist\n",
    "\n",
    "# To see this work\n",
    "print(getDistance(sample_locations[0], sample_locations[1]))\n"
   ]
  },
  {
   "cell_type": "code",
   "execution_count": 20,
   "metadata": {},
   "outputs": [
    {
     "name": "stdout",
     "output_type": "stream",
     "text": [
      "Function getScore defined\n"
     ]
    }
   ],
   "source": [
    "# Count the number of points within a distance of a point\n",
    "def getScore(point, allPoints, limitDistance):\n",
    "    result = 0\n",
    "    for other in allPoints:\n",
    "        thisDistance = getDistance(point, other)\n",
    "        if thisDistance <= limitDistance:\n",
    "            result += 1\n",
    "    return result\n",
    "print(\"Function getScore defined\")"
   ]
  },
  {
   "cell_type": "code",
   "execution_count": 21,
   "metadata": {},
   "outputs": [
    {
     "name": "stdout",
     "output_type": "stream",
     "text": [
      "Function getJson defined\n"
     ]
    }
   ],
   "source": [
    "# Convert anything to json\n",
    "import json\n",
    "def getJson(o):\n",
    "    json_string = json.dumps(topNList)    \n",
    "    return json_string\n",
    "print(\"Function getJson defined\")\n"
   ]
  },
  {
   "cell_type": "code",
   "execution_count": 22,
   "metadata": {},
   "outputs": [
    {
     "name": "stdout",
     "output_type": "stream",
     "text": [
      "Scores are complete\n"
     ]
    }
   ],
   "source": [
    "# Get the score of each point\n",
    "\n",
    "# Decide on accuracy\n",
    "arbitaryDistanceLimit = 0.0001\n",
    "\n",
    "# We'll keep scores here in an array here\n",
    "scores = [] \n",
    "\n",
    "# Define the data structure\n",
    "class Score:\n",
    "    def __init__(self, total, item):\n",
    "        self.total = total\n",
    "        self.item = item\n",
    "    def __repr__(self):\n",
    "        return repr((self.total, self.item))\n",
    "\n",
    "\n",
    "# Get the score for each location\n",
    "for l in sample_locations:\n",
    "    total = getScore(l, sample_locations, arbitaryDistanceLimit)\n",
    "    scores.append(Score(total, l))\n",
    "\n",
    "sorted_locations = sorted(scores, key=lambda score: score.total)\n",
    "\n",
    "\n",
    "print(\"Scores are complete\")\n"
   ]
  },
  {
   "cell_type": "code",
   "execution_count": 25,
   "metadata": {},
   "outputs": [
    {
     "name": "stdout",
     "output_type": "stream",
     "text": [
      "[{\"id\": \"7168\", \"lon\": 27.947771, \"lat\": -26.091434900000003, \"tim\": \"2018-08-31T15:52:00+00:00\", \"amount\": 0.0}, {\"id\": \"7178\", \"lon\": 27.9477753, \"lat\": -26.091427399999997, \"tim\": \"2018-08-31T15:33:14+00:00\", \"amount\": 0.0}, {\"id\": \"6903\", \"lon\": 27.947776299999997, \"lat\": -26.091425899999997, \"tim\": \"2018-09-01T07:16:38+00:00\", \"amount\": 0.0}, {\"id\": \"7183\", \"lon\": 27.9477755, \"lat\": -26.091431099999998, \"tim\": \"2018-08-31T15:21:29+00:00\", \"amount\": 0.0}, {\"id\": \"7176\", \"lon\": 27.9477786, \"lat\": -26.091424099999998, \"tim\": \"2018-08-31T15:37:20+00:00\", \"amount\": 0.0}, {\"id\": \"5700\", \"lon\": 27.947778699999997, \"lat\": -26.091424699999997, \"tim\": \"2018-09-03T16:14:19+00:00\", \"amount\": 0.0}, {\"id\": \"7166\", \"lon\": 27.9477844, \"lat\": -26.091419499999997, \"tim\": \"2018-08-31T15:59:01+00:00\", \"amount\": 0.0}, {\"id\": \"7167\", \"lon\": 27.9477844, \"lat\": -26.091419499999997, \"tim\": \"2018-08-31T15:52:54+00:00\", \"amount\": 0.0}, {\"id\": \"6907\", \"lon\": 27.9477844, \"lat\": -26.091419499999997, \"tim\": \"2018-09-01T06:51:54+00:00\", \"amount\": 0.0}, {\"id\": \"6908\", \"lon\": 27.9477844, \"lat\": -26.091419499999997, \"tim\": \"2018-09-01T06:50:45+00:00\", \"amount\": 0.0}]\n"
     ]
    }
   ],
   "source": [
    "# Get the top n -- THIS MIGHT NOT MATTER after implementation of SuperPoint\n",
    "topN = 10\n",
    "topNList = []\n",
    "\n",
    "current = 0\n",
    "last = len(sorted_locations) - 1\n",
    "start = last - topN\n",
    "a = last\n",
    "while a > start:\n",
    "    a -= 1\n",
    "    topNList.append(sorted_locations[a].item)\n",
    "    \n",
    "json_string = getJson(topNList)\n",
    "print(json_string)\n"
   ]
  },
  {
   "cell_type": "code",
   "execution_count": 24,
   "metadata": {},
   "outputs": [
    {
     "name": "stdout",
     "output_type": "stream",
     "text": [
      "SuperPoint declared\n"
     ]
    }
   ],
   "source": [
    "# Define a SuperPoint\n",
    "class SuperPoint:\n",
    "    def __init__(self, item):\n",
    "        self.items = []\n",
    "        items.append(item)\n",
    "    def __repr__(self):\n",
    "        return repr((self.items))\n",
    "\n",
    "print(\"SuperPoint declared\")\n",
    "\n"
   ]
  },
  {
   "cell_type": "code",
   "execution_count": null,
   "metadata": {},
   "outputs": [],
   "source": []
  }
 ],
 "metadata": {
  "kernelspec": {
   "display_name": "Python 3",
   "language": "python",
   "name": "python3"
  },
  "language_info": {
   "codemirror_mode": {
    "name": "ipython",
    "version": 3
   },
   "file_extension": ".py",
   "mimetype": "text/x-python",
   "name": "python",
   "nbconvert_exporter": "python",
   "pygments_lexer": "ipython3",
   "version": "3.6.5"
  }
 },
 "nbformat": 4,
 "nbformat_minor": 2
}
